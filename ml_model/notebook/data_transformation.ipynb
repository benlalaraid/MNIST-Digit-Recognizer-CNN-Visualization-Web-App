{
 "cells": [
  {
   "cell_type": "code",
   "execution_count": null,
   "id": "3c5e3cee",
   "metadata": {},
   "outputs": [],
   "source": [
    "import os\n",
    "import pandas as pd\n",
    "import numpy as np\n",
    "from PIL import Image\n",
    "\n",
    "# Path to CSV file\n",
    "csv_path = r\"../data_csv/train.csv\"\n",
    "\n",
    "# Folder where images will be saved\n",
    "output_folder = r\"../data_images\"\n",
    "\n",
    "# Create output folder if it doesn't exist\n",
    "os.makedirs(output_folder, exist_ok=True)\n",
    "\n",
    "# Load the CSV data\n",
    "df = pd.read_csv(csv_path)\n",
    "\n",
    "# Loop over the rows in the CSV\n",
    "for index, row in df.iterrows():\n",
    "    label = row['label']  # Get the digit label\n",
    "    pixels = row[1:].values.astype(np.uint8)  # Get pixel values and convert to uint8\n",
    "\n",
    "    # Reshape flat pixel array to 28x28 image\n",
    "    image_array = pixels.reshape(28, 28)\n",
    "\n",
    "    # Convert numpy array to PIL image\n",
    "    image = Image.fromarray(image_array)\n",
    "\n",
    "    # Build output path: e.g., ML MODEL/IMAGES/3_00001.png\n",
    "    image_filename = f\"{label}_{index:05d}.png\"\n",
    "    image_path = os.path.join(output_folder, image_filename)\n",
    "\n",
    "    # Save the image in PNG format\n",
    "    image.save(image_path)\n",
    "\n",
    "    # Optionally show progress every 1000 images\n",
    "    if index % 1000 == 0:\n",
    "        print(f\"Saved {index} images...\")\n",
    "\n",
    "print(\"✅ All images saved.\")"
   ]
  }
 ],
 "metadata": {
  "kernelspec": {
   "display_name": "Python 3",
   "language": "python",
   "name": "python3"
  },
  "language_info": {
   "name": "python",
   "version": "3.13.3"
  }
 },
 "nbformat": 4,
 "nbformat_minor": 5
}
