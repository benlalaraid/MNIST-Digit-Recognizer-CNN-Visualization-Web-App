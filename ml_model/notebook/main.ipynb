{
 "cells": [
  {
   "cell_type": "code",
   "execution_count": 1,
   "id": "05332e54",
   "metadata": {},
   "outputs": [],
   "source": [
    "import os\n",
    "import torch\n",
    "import torchvision.transforms as transforms\n",
    "from torch.utils.data import DataLoader, Dataset\n",
    "from PIL import Image\n",
    "import torch.nn as nn\n",
    "import torch.optim as optim\n",
    "from sklearn.model_selection import train_test_split"
   ]
  },
  {
   "cell_type": "code",
   "execution_count": 2,
   "id": "0abbf023",
   "metadata": {},
   "outputs": [],
   "source": [
    "class DigitImageDataset(Dataset):\n",
    "    def __init__(self, image_paths, transform=None):\n",
    "        self.image_paths = image_paths\n",
    "        self.transform = transform\n",
    "\n",
    "    def __len__(self):\n",
    "        return len(self.image_paths)\n",
    "\n",
    "    def __getitem__(self, idx):\n",
    "        image_path = self.image_paths[idx]\n",
    "        # Label is the digit before underscore in filename (e.g., 3_00023.png → label 3)\n",
    "        label = int(os.path.basename(image_path).split('_')[0])\n",
    "        image = Image.open(image_path).convert('L')  # Grayscale\n",
    "\n",
    "        if self.transform:\n",
    "            image = self.transform(image)\n",
    "\n",
    "        return image, label"
   ]
  },
  {
   "cell_type": "code",
   "execution_count": 3,
   "id": "5a45eb7f",
   "metadata": {},
   "outputs": [],
   "source": [
    "# Folder where your images are saved\n",
    "image_folder = \"../data_images\"\n",
    "image_paths = [os.path.join(image_folder, fname) for fname in os.listdir(image_folder)]\n",
    "\n",
    "# Split into train and validation (80-20)\n",
    "train_paths, val_paths = train_test_split(image_paths, test_size=0.2, random_state=42)\n",
    "\n",
    "# Transform: convert to tensor and normalize\n",
    "transform = transforms.Compose([\n",
    "    transforms.ToTensor(),               # [0,255] -> [0.0,1.0]\n",
    "    transforms.Normalize((0.5,), (0.5,)) # mean and std for grayscale\n",
    "])\n",
    "\n",
    "# Datasets\n",
    "train_dataset = DigitImageDataset(train_paths, transform=transform)\n",
    "val_dataset = DigitImageDataset(val_paths, transform=transform)\n",
    "\n",
    "# Dataloaders\n",
    "train_loader = DataLoader(train_dataset, batch_size=64, shuffle=True)\n",
    "val_loader = DataLoader(val_dataset, batch_size=64, shuffle=False)\n"
   ]
  },
  {
   "cell_type": "code",
   "execution_count": 4,
   "id": "01a78d4d",
   "metadata": {},
   "outputs": [],
   "source": [
    "class SimpleCNN(nn.Module):\n",
    "    def __init__(self):\n",
    "        super(SimpleCNN, self).__init__()\n",
    "        self.network = nn.Sequential(\n",
    "            nn.Conv2d(1, 16, 3, padding=1),  # (1,28,28) -> (16,28,28)\n",
    "            nn.ReLU(),\n",
    "            nn.MaxPool2d(2, 2),              # -> (16,14,14)\n",
    "            nn.Conv2d(16, 32, 3, padding=1), # -> (32,14,14)\n",
    "            nn.ReLU(),\n",
    "            nn.MaxPool2d(2, 2),              # -> (32,7,7)\n",
    "            nn.Flatten(),\n",
    "            nn.Linear(32 * 7 * 7, 128),\n",
    "            nn.ReLU(),\n",
    "            nn.Linear(128, 10)\n",
    "        )\n",
    "\n",
    "    def forward(self, x):\n",
    "        return self.network(x)\n"
   ]
  },
  {
   "cell_type": "code",
   "execution_count": 7,
   "id": "853a9ca0",
   "metadata": {},
   "outputs": [
    {
     "name": "stderr",
     "output_type": "stream",
     "text": [
      "                                                                         \r"
     ]
    },
    {
     "name": "stdout",
     "output_type": "stream",
     "text": [
      "✅ Epoch [1/5] finished. Total Loss: 153.8106\n"
     ]
    },
    {
     "name": "stderr",
     "output_type": "stream",
     "text": [
      "                                                                          \r"
     ]
    },
    {
     "name": "stdout",
     "output_type": "stream",
     "text": [
      "✅ Epoch [2/5] finished. Total Loss: 36.9754\n"
     ]
    },
    {
     "name": "stderr",
     "output_type": "stream",
     "text": [
      "                                                                          \r"
     ]
    },
    {
     "name": "stdout",
     "output_type": "stream",
     "text": [
      "✅ Epoch [3/5] finished. Total Loss: 25.4264\n"
     ]
    },
    {
     "name": "stderr",
     "output_type": "stream",
     "text": [
      "                                                                           \r"
     ]
    },
    {
     "name": "stdout",
     "output_type": "stream",
     "text": [
      "✅ Epoch [4/5] finished. Total Loss: 18.0737\n"
     ]
    },
    {
     "name": "stderr",
     "output_type": "stream",
     "text": [
      "                                                                           "
     ]
    },
    {
     "name": "stdout",
     "output_type": "stream",
     "text": [
      "✅ Epoch [5/5] finished. Total Loss: 14.7088\n"
     ]
    },
    {
     "name": "stderr",
     "output_type": "stream",
     "text": [
      "\r"
     ]
    }
   ],
   "source": [
    "from tqdm import tqdm  # make sure tqdm is installed\n",
    "\n",
    "device = torch.device(\"cpu\")\n",
    "model = SimpleCNN().to(device)\n",
    "\n",
    "criterion = nn.CrossEntropyLoss()\n",
    "optimizer = optim.Adam(model.parameters(), lr=0.001)\n",
    "\n",
    "num_epochs = 5\n",
    "for epoch in range(num_epochs):\n",
    "    model.train()\n",
    "    total_loss = 0\n",
    "\n",
    "    progress_bar = tqdm(train_loader, desc=f\"Epoch {epoch+1}/{num_epochs}\", leave=False)\n",
    "    for images, labels in progress_bar:\n",
    "        images, labels = images.to(device), labels.to(device)\n",
    "\n",
    "        outputs = model(images)\n",
    "        loss = criterion(outputs, labels)\n",
    "\n",
    "        optimizer.zero_grad()\n",
    "        loss.backward()\n",
    "        optimizer.step()\n",
    "\n",
    "        total_loss += loss.item()\n",
    "        progress_bar.set_postfix(loss=loss.item())\n",
    "\n",
    "    print(f\"✅ Epoch [{epoch+1}/{num_epochs}] finished. Total Loss: {total_loss:.4f}\")\n"
   ]
  },
  {
   "cell_type": "code",
   "execution_count": 8,
   "id": "8f7f0163",
   "metadata": {},
   "outputs": [
    {
     "name": "stdout",
     "output_type": "stream",
     "text": [
      "✅ Validation Accuracy: 98.85%\n"
     ]
    }
   ],
   "source": [
    "model.eval()\n",
    "correct = 0\n",
    "total = 0\n",
    "with torch.no_grad():\n",
    "    for images, labels in val_loader:\n",
    "        images, labels = images.to(device), labels.to(device)\n",
    "        outputs = model(images)\n",
    "        _, predicted = torch.max(outputs.data, 1)\n",
    "        total += labels.size(0)\n",
    "        correct += (predicted == labels).sum().item()\n",
    "\n",
    "print(f\"✅ Validation Accuracy: {100 * correct / total:.2f}%\")"
   ]
  },
  {
   "cell_type": "code",
   "execution_count": 10,
   "id": "bc03b412",
   "metadata": {},
   "outputs": [
    {
     "data": {
      "image/png": "[encoded data removed]",
      "text/plain": [
       "<Figure size 1200x400 with 5 Axes>"
      ]
     },
     "metadata": {},
     "output_type": "display_data"
    }
   ],
   "source": [
    "import matplotlib.pyplot as plt\n",
    "import torch\n",
    "\n",
    "# Set model to eval mode\n",
    "model.eval()\n",
    "\n",
    "# Get one batch from the test loader\n",
    "images, labels = next(iter(val_loader))\n",
    "images, labels = images.to(device), labels.to(device)\n",
    "\n",
    "# Predict\n",
    "with torch.no_grad():\n",
    "    outputs = model(images)\n",
    "    _, preds = torch.max(outputs, 1)\n",
    "\n",
    "# Plot 5 images with true and predicted labels\n",
    "plt.figure(figsize=(12, 4))\n",
    "for i in range(5):\n",
    "    image = images[i].cpu().squeeze(0)  # remove channel dimension if grayscale\n",
    "    plt.subplot(1, 5, i+1)\n",
    "    plt.imshow(image, cmap='gray')\n",
    "    plt.title(f\"GT: {labels[i].item()}\\nPred: {preds[i].item()}\")\n",
    "    plt.axis('off')\n",
    "\n",
    "plt.tight_layout()\n",
    "plt.show()\n"
   ]
  },
  {
   "cell_type": "code",
   "execution_count": 11,
   "id": "ed9e6d5c",
   "metadata": {},
   "outputs": [
    {
     "name": "stdout",
     "output_type": "stream",
     "text": [
      "✅ Model saved in multiple formats in 'models/' directory.\n"
     ]
    }
   ],
   "source": [
    "# Save the model's full object\n",
    "torch.save(model, \"../models/simple_cnn_full.pth\")\n",
    "\n",
    "# Save only the model's state dict (recommended for deployment/reloading)\n",
    "torch.save(model.state_dict(), \"../models/simple_cnn_state_dict.pth\")\n",
    "\n",
    "# Optionally, export to TorchScript for optimized deployment (e.g., on mobile or C++)\n",
    "example_input = torch.randn(1, 1, 28, 28).to(device)\n",
    "traced_script_module = torch.jit.trace(model, example_input)\n",
    "traced_script_module.save(\"../models/simple_cnn_script.pt\")\n",
    "\n",
    "print(\"✅ Model saved in multiple formats in 'models/' directory.\")"
   ]
  }
 ],
 "metadata": {
  "kernelspec": {
   "display_name": "Python 3",
   "language": "python",
   "name": "python3"
  },
  "language_info": {
   "codemirror_mode": {
    "name": "ipython",
    "version": 3
   },
   "file_extension": ".py",
   "mimetype": "text/x-python",
   "name": "python",
   "nbconvert_exporter": "python",
   "pygments_lexer": "ipython3",
   "version": "3.13.3"
  }
 },
 "nbformat": 4,
 "nbformat_minor": 5
}
